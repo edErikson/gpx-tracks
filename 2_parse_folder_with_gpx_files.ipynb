{
 "cells": [
  {
   "cell_type": "code",
   "execution_count": 8,
   "metadata": {},
   "outputs": [],
   "source": [
    "import gpxpy\n",
    "from pandas import DataFrame"
   ]
  },
  {
   "cell_type": "code",
   "execution_count": 9,
   "metadata": {},
   "outputs": [],
   "source": [
    "import os\n",
    "from glob import glob\n",
    "\n",
    "def load_run_data(gpx_path, filter=\"\"):\n",
    "    gpx_files = glob(os.path.join(gpx_path, filter + \"*.gpx\"))\n",
    "    run_data = []\n",
    "    for file_idx, gpx_file in enumerate(gpx_files): \n",
    "        gpx = gpxpy.parse(open(gpx_file, 'r'))\n",
    "        # Loop through tracks\n",
    "        for track_idx, track in enumerate(gpx.tracks):\n",
    "            track_name = track.name\n",
    "            track_time = track.get_time_bounds().start_time\n",
    "            track_length = track.length_3d()\n",
    "            track_duration = track.get_duration()\n",
    "            track_speed = track.get_moving_data().max_speed\n",
    "            \n",
    "            for seg_idx, segment in enumerate(track.segments):\n",
    "                segment_length = segment.length_3d()\n",
    "                for point_idx, point in enumerate(segment.points):\n",
    "                    run_data.append([file_idx, os.path.basename(gpx_file), track_idx, track_name, \n",
    "                                     track_time, track_length, track_duration, track_speed, \n",
    "                                     seg_idx, segment_length, point.time, point.latitude, \n",
    "                                     point.longitude, point.elevation, segment.get_speed(point_idx)])\n",
    "    return run_data"
   ]
  },
  {
   "cell_type": "code",
   "execution_count": 10,
   "metadata": {},
   "outputs": [],
   "source": [
    "data = load_run_data(gpx_path='gpx', filter=\"\")\n",
    "df = DataFrame(data, columns=['File_Index', 'File_Name', 'Index', 'Name',\n",
    "                              'Time', 'Length', 'Duration', 'Max_Speed',\n",
    "                              'Segment_Index', 'Segment_Length', 'Point_Time', 'Point_Latitude',\n",
    "                              'Point_Longitude', 'Point_Elevation', 'Point_Speed'])"
   ]
  },
  {
   "cell_type": "code",
   "execution_count": 11,
   "metadata": {},
   "outputs": [
    {
     "data": {
      "text/plain": [
       "144709"
      ]
     },
     "execution_count": 11,
     "metadata": {},
     "output_type": "execute_result"
    }
   ],
   "source": [
    "len(df)"
   ]
  },
  {
   "cell_type": "code",
   "execution_count": 12,
   "metadata": {},
   "outputs": [],
   "source": [
    "df.to_csv('gpx/all_tracks.csv')"
   ]
  },
  {
   "cell_type": "markdown",
   "metadata": {},
   "source": [
    "##### clean up the DataFrame"
   ]
  },
  {
   "cell_type": "code",
   "execution_count": 13,
   "metadata": {},
   "outputs": [],
   "source": [
    "cols = ['File_Index', 'Time', 'Length', 'Duration', 'Max_Speed']\n",
    "tracks = df[cols].copy()\n",
    "tracks['Length'] /= 1e3\n",
    "tracks.drop_duplicates(inplace=True)"
   ]
  },
  {
   "cell_type": "code",
   "execution_count": 14,
   "metadata": {},
   "outputs": [
    {
     "data": {
      "text/plain": [
       "198"
      ]
     },
     "execution_count": 14,
     "metadata": {},
     "output_type": "execute_result"
    }
   ],
   "source": [
    "len(tracks)"
   ]
  },
  {
   "cell_type": "markdown",
   "metadata": {},
   "source": [
    "### add a Track Year and Month columns based on track time"
   ]
  },
  {
   "cell_type": "code",
   "execution_count": 15,
   "metadata": {},
   "outputs": [
    {
     "data": {
      "text/html": [
       "<div>\n",
       "<style scoped>\n",
       "    .dataframe tbody tr th:only-of-type {\n",
       "        vertical-align: middle;\n",
       "    }\n",
       "\n",
       "    .dataframe tbody tr th {\n",
       "        vertical-align: top;\n",
       "    }\n",
       "\n",
       "    .dataframe thead tr th {\n",
       "        text-align: left;\n",
       "    }\n",
       "\n",
       "    .dataframe thead tr:last-of-type th {\n",
       "        text-align: right;\n",
       "    }\n",
       "</style>\n",
       "<table border=\"1\" class=\"dataframe\">\n",
       "  <thead>\n",
       "    <tr>\n",
       "      <th></th>\n",
       "      <th></th>\n",
       "      <th colspan=\"8\" halign=\"left\">Duration</th>\n",
       "      <th colspan=\"2\" halign=\"left\">File_Index</th>\n",
       "      <th>...</th>\n",
       "      <th colspan=\"2\" halign=\"left\">Length</th>\n",
       "      <th colspan=\"8\" halign=\"left\">Max_Speed</th>\n",
       "    </tr>\n",
       "    <tr>\n",
       "      <th></th>\n",
       "      <th></th>\n",
       "      <th>count</th>\n",
       "      <th>mean</th>\n",
       "      <th>std</th>\n",
       "      <th>min</th>\n",
       "      <th>25%</th>\n",
       "      <th>50%</th>\n",
       "      <th>75%</th>\n",
       "      <th>max</th>\n",
       "      <th>count</th>\n",
       "      <th>mean</th>\n",
       "      <th>...</th>\n",
       "      <th>75%</th>\n",
       "      <th>max</th>\n",
       "      <th>count</th>\n",
       "      <th>mean</th>\n",
       "      <th>std</th>\n",
       "      <th>min</th>\n",
       "      <th>25%</th>\n",
       "      <th>50%</th>\n",
       "      <th>75%</th>\n",
       "      <th>max</th>\n",
       "    </tr>\n",
       "    <tr>\n",
       "      <th>Year</th>\n",
       "      <th>Month</th>\n",
       "      <th></th>\n",
       "      <th></th>\n",
       "      <th></th>\n",
       "      <th></th>\n",
       "      <th></th>\n",
       "      <th></th>\n",
       "      <th></th>\n",
       "      <th></th>\n",
       "      <th></th>\n",
       "      <th></th>\n",
       "      <th></th>\n",
       "      <th></th>\n",
       "      <th></th>\n",
       "      <th></th>\n",
       "      <th></th>\n",
       "      <th></th>\n",
       "      <th></th>\n",
       "      <th></th>\n",
       "      <th></th>\n",
       "      <th></th>\n",
       "      <th></th>\n",
       "    </tr>\n",
       "  </thead>\n",
       "  <tbody>\n",
       "    <tr>\n",
       "      <th rowspan=\"3\" valign=\"top\">2017</th>\n",
       "      <th>6</th>\n",
       "      <td>16.0</td>\n",
       "      <td>1560.125000</td>\n",
       "      <td>806.318454</td>\n",
       "      <td>670.0</td>\n",
       "      <td>1121.25</td>\n",
       "      <td>1353.5</td>\n",
       "      <td>1636.25</td>\n",
       "      <td>3695.0</td>\n",
       "      <td>16.0</td>\n",
       "      <td>33.250000</td>\n",
       "      <td>...</td>\n",
       "      <td>9.753693</td>\n",
       "      <td>18.451769</td>\n",
       "      <td>16.0</td>\n",
       "      <td>7.621341</td>\n",
       "      <td>0.547591</td>\n",
       "      <td>6.704418</td>\n",
       "      <td>7.229923</td>\n",
       "      <td>7.714285</td>\n",
       "      <td>7.846886</td>\n",
       "      <td>8.784969</td>\n",
       "    </tr>\n",
       "    <tr>\n",
       "      <th>7</th>\n",
       "      <td>38.0</td>\n",
       "      <td>1801.842105</td>\n",
       "      <td>1061.757328</td>\n",
       "      <td>400.0</td>\n",
       "      <td>1211.75</td>\n",
       "      <td>1347.5</td>\n",
       "      <td>2040.25</td>\n",
       "      <td>4935.0</td>\n",
       "      <td>38.0</td>\n",
       "      <td>24.552632</td>\n",
       "      <td>...</td>\n",
       "      <td>11.358244</td>\n",
       "      <td>30.252068</td>\n",
       "      <td>38.0</td>\n",
       "      <td>7.677768</td>\n",
       "      <td>0.889915</td>\n",
       "      <td>5.913409</td>\n",
       "      <td>7.201854</td>\n",
       "      <td>7.519941</td>\n",
       "      <td>8.052849</td>\n",
       "      <td>10.399508</td>\n",
       "    </tr>\n",
       "    <tr>\n",
       "      <th>8</th>\n",
       "      <td>1.0</td>\n",
       "      <td>3066.000000</td>\n",
       "      <td>NaN</td>\n",
       "      <td>3066.0</td>\n",
       "      <td>3066.00</td>\n",
       "      <td>3066.0</td>\n",
       "      <td>3066.00</td>\n",
       "      <td>3066.0</td>\n",
       "      <td>1.0</td>\n",
       "      <td>20.000000</td>\n",
       "      <td>...</td>\n",
       "      <td>17.402420</td>\n",
       "      <td>17.402420</td>\n",
       "      <td>1.0</td>\n",
       "      <td>7.435989</td>\n",
       "      <td>NaN</td>\n",
       "      <td>7.435989</td>\n",
       "      <td>7.435989</td>\n",
       "      <td>7.435989</td>\n",
       "      <td>7.435989</td>\n",
       "      <td>7.435989</td>\n",
       "    </tr>\n",
       "    <tr>\n",
       "      <th rowspan=\"2\" valign=\"top\">2018</th>\n",
       "      <th>6</th>\n",
       "      <td>1.0</td>\n",
       "      <td>1166.000000</td>\n",
       "      <td>NaN</td>\n",
       "      <td>1166.0</td>\n",
       "      <td>1166.00</td>\n",
       "      <td>1166.0</td>\n",
       "      <td>1166.00</td>\n",
       "      <td>1166.0</td>\n",
       "      <td>1.0</td>\n",
       "      <td>133.000000</td>\n",
       "      <td>...</td>\n",
       "      <td>7.405830</td>\n",
       "      <td>7.405830</td>\n",
       "      <td>1.0</td>\n",
       "      <td>7.604542</td>\n",
       "      <td>NaN</td>\n",
       "      <td>7.604542</td>\n",
       "      <td>7.604542</td>\n",
       "      <td>7.604542</td>\n",
       "      <td>7.604542</td>\n",
       "      <td>7.604542</td>\n",
       "    </tr>\n",
       "    <tr>\n",
       "      <th>7</th>\n",
       "      <td>47.0</td>\n",
       "      <td>1995.042553</td>\n",
       "      <td>1582.820446</td>\n",
       "      <td>411.0</td>\n",
       "      <td>1025.50</td>\n",
       "      <td>1153.0</td>\n",
       "      <td>2510.00</td>\n",
       "      <td>6529.0</td>\n",
       "      <td>47.0</td>\n",
       "      <td>131.936170</td>\n",
       "      <td>...</td>\n",
       "      <td>15.855431</td>\n",
       "      <td>38.513829</td>\n",
       "      <td>47.0</td>\n",
       "      <td>8.019556</td>\n",
       "      <td>1.363460</td>\n",
       "      <td>3.014150</td>\n",
       "      <td>7.598987</td>\n",
       "      <td>8.166279</td>\n",
       "      <td>8.505242</td>\n",
       "      <td>11.498026</td>\n",
       "    </tr>\n",
       "  </tbody>\n",
       "</table>\n",
       "<p>5 rows × 32 columns</p>\n",
       "</div>"
      ],
      "text/plain": [
       "           Duration                                                     \\\n",
       "              count         mean          std     min      25%     50%   \n",
       "Year Month                                                               \n",
       "2017 6         16.0  1560.125000   806.318454   670.0  1121.25  1353.5   \n",
       "     7         38.0  1801.842105  1061.757328   400.0  1211.75  1347.5   \n",
       "     8          1.0  3066.000000          NaN  3066.0  3066.00  3066.0   \n",
       "2018 6          1.0  1166.000000          NaN  1166.0  1166.00  1166.0   \n",
       "     7         47.0  1995.042553  1582.820446   411.0  1025.50  1153.0   \n",
       "\n",
       "                            File_Index                ...         Length  \\\n",
       "                75%     max      count        mean    ...            75%   \n",
       "Year Month                                            ...                  \n",
       "2017 6      1636.25  3695.0       16.0   33.250000    ...       9.753693   \n",
       "     7      2040.25  4935.0       38.0   24.552632    ...      11.358244   \n",
       "     8      3066.00  3066.0        1.0   20.000000    ...      17.402420   \n",
       "2018 6      1166.00  1166.0        1.0  133.000000    ...       7.405830   \n",
       "     7      2510.00  6529.0       47.0  131.936170    ...      15.855431   \n",
       "\n",
       "                      Max_Speed                                          \\\n",
       "                  max     count      mean       std       min       25%   \n",
       "Year Month                                                                \n",
       "2017 6      18.451769      16.0  7.621341  0.547591  6.704418  7.229923   \n",
       "     7      30.252068      38.0  7.677768  0.889915  5.913409  7.201854   \n",
       "     8      17.402420       1.0  7.435989       NaN  7.435989  7.435989   \n",
       "2018 6       7.405830       1.0  7.604542       NaN  7.604542  7.604542   \n",
       "     7      38.513829      47.0  8.019556  1.363460  3.014150  7.598987   \n",
       "\n",
       "                                           \n",
       "                 50%       75%        max  \n",
       "Year Month                                 \n",
       "2017 6      7.714285  7.846886   8.784969  \n",
       "     7      7.519941  8.052849  10.399508  \n",
       "     8      7.435989  7.435989   7.435989  \n",
       "2018 6      7.604542  7.604542   7.604542  \n",
       "     7      8.166279  8.505242  11.498026  \n",
       "\n",
       "[5 rows x 32 columns]"
      ]
     },
     "execution_count": 15,
     "metadata": {},
     "output_type": "execute_result"
    }
   ],
   "source": [
    "tracks['Year'] = tracks['Time'].apply(lambda x: x.year)\n",
    "tracks['Month'] = tracks['Time'].apply(lambda x: x.month)\n",
    "tracks_grouped = tracks.groupby(['Year','Month'])\n",
    "tracks_grouped.describe().head()"
   ]
  },
  {
   "cell_type": "markdown",
   "metadata": {},
   "source": [
    "### distance pro month"
   ]
  },
  {
   "cell_type": "code",
   "execution_count": 16,
   "metadata": {},
   "outputs": [],
   "source": [
    "figsize=(10, 5)\n",
    "\n",
    "tracks_grouped = tracks.groupby(['Year', 'Month'])\n",
    "ax = tracks_grouped['Length'].sum().plot(kind='bar', figsize=figsize)\n",
    "xlabels = [text.get_text() for text in  ax.get_xticklabels()]\n",
    "ax.set_xticklabels(xlabels, rotation=70)\n",
    "_ = ax.set_ylabel('Distance (km)')"
   ]
  },
  {
   "cell_type": "code",
   "execution_count": 17,
   "metadata": {},
   "outputs": [],
   "source": [
    "tracks = df.copy()\n",
    "tracks['Year'] = tracks['Time'].apply(lambda x: x.year)\n",
    "tracks['Month'] = tracks['Time'].apply(lambda x: x.month)"
   ]
  },
  {
   "cell_type": "markdown",
   "metadata": {},
   "source": [
    "#### converting m/s to km/h"
   ]
  },
  {
   "cell_type": "code",
   "execution_count": 18,
   "metadata": {},
   "outputs": [],
   "source": [
    "tracks['Point_Speed'] = tracks['Point_Speed'] * 3.6"
   ]
  },
  {
   "cell_type": "code",
   "execution_count": 19,
   "metadata": {},
   "outputs": [
    {
     "data": {
      "image/png": "[encoded data removed]",
      "text/plain": [
       "<Figure size 720x360 with 1 Axes>"
      ]
     },
     "metadata": {
      "needs_background": "light"
     },
     "output_type": "display_data"
    }
   ],
   "source": [
    "\n",
    "tracks_gr = tracks.groupby(by=['Year', 'Month'])\n",
    "ax = tracks_gr['Point_Speed'].mean().plot(kind='bar', figsize=figsize)\n",
    "xlabels = [text.get_text() for text in  ax.get_xticklabels()]\n",
    "ax.set_xticklabels(xlabels, rotation=70)\n",
    "_ = ax.set_ylabel('Mean speed (km/h)')"
   ]
  },
  {
   "cell_type": "markdown",
   "metadata": {},
   "source": [
    "### separate 2017 and 2018"
   ]
  },
  {
   "cell_type": "code",
   "execution_count": 20,
   "metadata": {},
   "outputs": [],
   "source": [
    "last_year = tracks.loc[tracks['Year'] == 2017]\n",
    "this_year = tracks.loc[tracks['Year'] == 2018]"
   ]
  },
  {
   "cell_type": "code",
   "execution_count": 21,
   "metadata": {},
   "outputs": [
    {
     "data": {
      "text/html": [
       "<div>\n",
       "<style scoped>\n",
       "    .dataframe tbody tr th:only-of-type {\n",
       "        vertical-align: middle;\n",
       "    }\n",
       "\n",
       "    .dataframe tbody tr th {\n",
       "        vertical-align: top;\n",
       "    }\n",
       "\n",
       "    .dataframe thead th {\n",
       "        text-align: right;\n",
       "    }\n",
       "</style>\n",
       "<table border=\"1\" class=\"dataframe\">\n",
       "  <thead>\n",
       "    <tr style=\"text-align: right;\">\n",
       "      <th></th>\n",
       "      <th>File_Index</th>\n",
       "      <th>File_Name</th>\n",
       "      <th>Index</th>\n",
       "      <th>Name</th>\n",
       "      <th>Time</th>\n",
       "      <th>Length</th>\n",
       "      <th>Duration</th>\n",
       "      <th>Max_Speed</th>\n",
       "      <th>Segment_Index</th>\n",
       "      <th>Segment_Length</th>\n",
       "      <th>Point_Time</th>\n",
       "      <th>Point_Latitude</th>\n",
       "      <th>Point_Longitude</th>\n",
       "      <th>Point_Elevation</th>\n",
       "      <th>Point_Speed</th>\n",
       "      <th>Year</th>\n",
       "      <th>Month</th>\n",
       "    </tr>\n",
       "  </thead>\n",
       "  <tbody>\n",
       "    <tr>\n",
       "      <th>0</th>\n",
       "      <td>0</td>\n",
       "      <td>2017._gada_10._jūl._12_03_37.gpx</td>\n",
       "      <td>0</td>\n",
       "      <td>2017. gada 10. jЕ«l. 12:03:37</td>\n",
       "      <td>2017-07-10 09:03:38</td>\n",
       "      <td>7423.773339</td>\n",
       "      <td>1278</td>\n",
       "      <td>7.862605</td>\n",
       "      <td>0</td>\n",
       "      <td>7423.773339</td>\n",
       "      <td>2017-07-10 09:03:38</td>\n",
       "      <td>56.650558</td>\n",
       "      <td>23.704233</td>\n",
       "      <td>57.0</td>\n",
       "      <td>12.491366</td>\n",
       "      <td>2017</td>\n",
       "      <td>7</td>\n",
       "    </tr>\n",
       "    <tr>\n",
       "      <th>1</th>\n",
       "      <td>0</td>\n",
       "      <td>2017._gada_10._jūl._12_03_37.gpx</td>\n",
       "      <td>0</td>\n",
       "      <td>2017. gada 10. jЕ«l. 12:03:37</td>\n",
       "      <td>2017-07-10 09:03:38</td>\n",
       "      <td>7423.773339</td>\n",
       "      <td>1278</td>\n",
       "      <td>7.862605</td>\n",
       "      <td>0</td>\n",
       "      <td>7423.773339</td>\n",
       "      <td>2017-07-10 09:03:42</td>\n",
       "      <td>56.650455</td>\n",
       "      <td>23.704176</td>\n",
       "      <td>50.0</td>\n",
       "      <td>16.896641</td>\n",
       "      <td>2017</td>\n",
       "      <td>7</td>\n",
       "    </tr>\n",
       "    <tr>\n",
       "      <th>2</th>\n",
       "      <td>0</td>\n",
       "      <td>2017._gada_10._jūl._12_03_37.gpx</td>\n",
       "      <td>0</td>\n",
       "      <td>2017. gada 10. jЕ«l. 12:03:37</td>\n",
       "      <td>2017-07-10 09:03:38</td>\n",
       "      <td>7423.773339</td>\n",
       "      <td>1278</td>\n",
       "      <td>7.862605</td>\n",
       "      <td>0</td>\n",
       "      <td>7423.773339</td>\n",
       "      <td>2017-07-10 09:03:46</td>\n",
       "      <td>56.650280</td>\n",
       "      <td>23.704077</td>\n",
       "      <td>38.0</td>\n",
       "      <td>19.666927</td>\n",
       "      <td>2017</td>\n",
       "      <td>7</td>\n",
       "    </tr>\n",
       "    <tr>\n",
       "      <th>3</th>\n",
       "      <td>0</td>\n",
       "      <td>2017._gada_10._jūl._12_03_37.gpx</td>\n",
       "      <td>0</td>\n",
       "      <td>2017. gada 10. jЕ«l. 12:03:37</td>\n",
       "      <td>2017-07-10 09:03:38</td>\n",
       "      <td>7423.773339</td>\n",
       "      <td>1278</td>\n",
       "      <td>7.862605</td>\n",
       "      <td>0</td>\n",
       "      <td>7423.773339</td>\n",
       "      <td>2017-07-10 09:03:51</td>\n",
       "      <td>56.650410</td>\n",
       "      <td>23.703743</td>\n",
       "      <td>38.0</td>\n",
       "      <td>22.840248</td>\n",
       "      <td>2017</td>\n",
       "      <td>7</td>\n",
       "    </tr>\n",
       "  </tbody>\n",
       "</table>\n",
       "</div>"
      ],
      "text/plain": [
       "   File_Index                         File_Name  Index  \\\n",
       "0           0  2017._gada_10._jūl._12_03_37.gpx      0   \n",
       "1           0  2017._gada_10._jūl._12_03_37.gpx      0   \n",
       "2           0  2017._gada_10._jūl._12_03_37.gpx      0   \n",
       "3           0  2017._gada_10._jūl._12_03_37.gpx      0   \n",
       "\n",
       "                            Name                Time       Length  Duration  \\\n",
       "0  2017. gada 10. jЕ«l. 12:03:37 2017-07-10 09:03:38  7423.773339      1278   \n",
       "1  2017. gada 10. jЕ«l. 12:03:37 2017-07-10 09:03:38  7423.773339      1278   \n",
       "2  2017. gada 10. jЕ«l. 12:03:37 2017-07-10 09:03:38  7423.773339      1278   \n",
       "3  2017. gada 10. jЕ«l. 12:03:37 2017-07-10 09:03:38  7423.773339      1278   \n",
       "\n",
       "   Max_Speed  Segment_Index  Segment_Length          Point_Time  \\\n",
       "0   7.862605              0     7423.773339 2017-07-10 09:03:38   \n",
       "1   7.862605              0     7423.773339 2017-07-10 09:03:42   \n",
       "2   7.862605              0     7423.773339 2017-07-10 09:03:46   \n",
       "3   7.862605              0     7423.773339 2017-07-10 09:03:51   \n",
       "\n",
       "   Point_Latitude  Point_Longitude  Point_Elevation  Point_Speed  Year  Month  \n",
       "0       56.650558        23.704233             57.0    12.491366  2017      7  \n",
       "1       56.650455        23.704176             50.0    16.896641  2017      7  \n",
       "2       56.650280        23.704077             38.0    19.666927  2017      7  \n",
       "3       56.650410        23.703743             38.0    22.840248  2017      7  "
      ]
     },
     "execution_count": 21,
     "metadata": {},
     "output_type": "execute_result"
    }
   ],
   "source": [
    "last_year[:4]"
   ]
  },
  {
   "cell_type": "code",
   "execution_count": 42,
   "metadata": {},
   "outputs": [],
   "source": [
    "import seaborn as sns"
   ]
  },
  {
   "cell_type": "code",
   "execution_count": 43,
   "metadata": {},
   "outputs": [
    {
     "data": {
      "text/plain": [
       "<pandas.core.groupby.groupby.DataFrameGroupBy object at 0x00000161361AF4A8>"
      ]
     },
     "execution_count": 43,
     "metadata": {},
     "output_type": "execute_result"
    }
   ],
   "source": [
    "last_year.groupby(by=['File_Name'])"
   ]
  },
  {
   "cell_type": "code",
   "execution_count": null,
   "metadata": {},
   "outputs": [],
   "source": []
  },
  {
   "cell_type": "code",
   "execution_count": null,
   "metadata": {},
   "outputs": [],
   "source": []
  },
  {
   "cell_type": "code",
   "execution_count": null,
   "metadata": {},
   "outputs": [],
   "source": []
  },
  {
   "cell_type": "code",
   "execution_count": null,
   "metadata": {},
   "outputs": [],
   "source": []
  }
 ],
 "metadata": {
  "kernelspec": {
   "display_name": "Python 3",
   "language": "python",
   "name": "python3"
  },
  "language_info": {
   "codemirror_mode": {
    "name": "ipython",
    "version": 3
   },
   "file_extension": ".py",
   "mimetype": "text/x-python",
   "name": "python",
   "nbconvert_exporter": "python",
   "pygments_lexer": "ipython3",
   "version": "3.6.6"
  }
 },
 "nbformat": 4,
 "nbformat_minor": 2
}
